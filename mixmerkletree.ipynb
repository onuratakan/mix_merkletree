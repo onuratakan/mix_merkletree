{
  "cells": [
    {
      "cell_type": "markdown",
      "metadata": {
        "id": "5ko5wVas6132"
      },
      "source": [
        "This code offers you a simple and functional possibility to test the merkle tree."
      ]
    },
    {
      "cell_type": "markdown",
      "metadata": {
        "id": "QfPjpfSf7Ljc"
      },
      "source": [
        "#### Lelt's go !"
      ]
    },
    {
      "cell_type": "markdown",
      "metadata": {
        "id": "0gt72rp17RSE"
      },
      "source": [
        "Importing the library."
      ]
    },
    {
      "cell_type": "code",
      "execution_count": 9,
      "metadata": {
        "id": "UARurZAa7Xvi"
      },
      "outputs": [],
      "source": [
        "from typing import List\n",
        "import hashlib"
      ]
    },
    {
      "cell_type": "markdown",
      "metadata": {
        "id": "C95CH-uw7eEf"
      },
      "source": [
        "Adding \"Node\" the class and static function."
      ]
    },
    {
      "cell_type": "code",
      "execution_count": 10,
      "metadata": {
        "id": "GgE_J4cm7hip"
      },
      "outputs": [],
      "source": [
        "class Node:\n",
        "    def __init__(self, left, right, value: str,content, is_copied=False)-> None:\n",
        "        self.left: Node = left\n",
        "        self.right: Node = right\n",
        "        self.value = value\n",
        "        self.content = content\n",
        "        self.is_copied=is_copied\n",
        "    \n",
        "    @staticmethod\n",
        "    def hash(val: str)-> str:\n",
        "        return hashlib.sha256(val.encode('utf-8')).hexdigest()\n",
        "    def __str__(self):\n",
        "      return (str(self.value))\n",
        "  \n",
        "    def copy(self):\n",
        "        return Node(self.left, self.right, self.value, self.content, True)"
      ]
    },
    {
      "cell_type": "markdown",
      "metadata": {
        "id": "V1sz0xuC7pq7"
      },
      "source": [
        "And adding the \"MerkleTree\" class."
      ]
    },
    {
      "cell_type": "code",
      "execution_count": 11,
      "metadata": {
        "id": "i804zHRD8Vvj"
      },
      "outputs": [],
      "source": [
        "class MerkleTree:\n",
        "    def __init__(self, values: List[str]) -> None:\n",
        "        self.__buildTree(values)\n",
        "\n",
        "    def __buildTree(self, values: List[str]) -> None:\n",
        "\n",
        "        leaves: List[Node] = [Node(None, None, Node.hash(e), e) for e in values]\n",
        "        if len(leaves) % 2 == 1:\n",
        "            leaves.append(leaves[-1:][0])  # duplicate last elem if odd number of elements\n",
        "        self.root: Node = self.__buildTreeRec(leaves)\n",
        "\n",
        "    def __buildTreeRec(self, nodes: List[Node]) -> Node:\n",
        "        if len(nodes) % 2 == 1:\n",
        "            nodes.append(nodes[-1].copy())\n",
        "        half: int = len(nodes) // 2\n",
        "\n",
        "        if len(nodes) == 2:\n",
        "            return Node(nodes[0], nodes[1], Node.hash(nodes[0].value + nodes[1].value), nodes[0].content+\"+\"+nodes[1].content)\n",
        "\n",
        "        left: Node = self.__buildTreeRec(nodes[:half])\n",
        "        right: Node = self.__buildTreeRec(nodes[half:])\n",
        "        value: str = Node.hash(left.value + right.value)\n",
        "        content: str = self.__buildTreeRec(nodes[:half]).content+\"+\"+self.__buildTreeRec(nodes[half:]).content\n",
        "        return Node(left, right, value, content)\n",
        "\n",
        "    def printTree(self) -> None:\n",
        "        self.__printTreeRec(self.root)\n",
        "\n",
        "    def __printTreeRec(self, node) -> None:\n",
        "        if node != None:\n",
        "            if node.left != None:\n",
        "                print(\"Left: \"+str(node.left))\n",
        "                print(\"Right: \"+str(node.right))\n",
        "            else:\n",
        "                print(\"Input\")\n",
        "            if node.is_copied:\n",
        "                print('(Padding)')\n",
        "            print(\"Value: \"+str(node.value))\n",
        "            print(\"Content: \"+str(node.content))\n",
        "            print(\"\")\n",
        "            self.__printTreeRec(node.left)\n",
        "            self.__printTreeRec(node.right)\n",
        "\n",
        "    def getRootHash(self) -> str:\n",
        "        return self.root.value\n"
      ]
    },
    {
      "cell_type": "markdown",
      "metadata": {
        "id": "MCNviPXf-iga"
      },
      "source": [
        "# Test"
      ]
    },
    {
      "cell_type": "code",
      "execution_count": 12,
      "metadata": {
        "id": "LhCCADqk-mEC"
      },
      "outputs": [
        {
          "name": "stdout",
          "output_type": "stream",
          "text": [
            "Inputs: \n",
            "Mix | Merkle | Tree | From | Onur Atakan ULUSOY | https://github.com/onuratakan/mixmerkletree | GO\n",
            "\n",
            "Root Hash: 2d895361b378a8a7f6dfe918953e270fd6b7d9bd9e18ded42ce6b4375026d277\n",
            "\n",
            "Left: 941ea3b5f29a54923b15e852d307e8f1ea719a72c1c90958182bddf4eadb200b\n",
            "Right: c04ac4dc80287139319ed96eac4d0f4f2e27c7e349f7c848b0cd72508bc95868\n",
            "Value: 2d895361b378a8a7f6dfe918953e270fd6b7d9bd9e18ded42ce6b4375026d277\n",
            "Content: Mix+Merkle+Tree+From+Onur Atakan ULUSOY+https://github.com/onuratakan/mixmerkletree+GO+GO\n",
            "\n",
            "Left: 0f0f51729ff9f7b5d2ebbed20ab898834d83f18334811a9016bc72a2a690035e\n",
            "Right: 66edd3db394018a4b7e452e99c351734abe106e9033a17a83c009414a9ddcb59\n",
            "Value: 941ea3b5f29a54923b15e852d307e8f1ea719a72c1c90958182bddf4eadb200b\n",
            "Content: Mix+Merkle+Tree+From\n",
            "\n",
            "Left: dce6eb4447ef655f33b7baeb0a16ab3d27257c65bf45f760a44b9bff8d5b6663\n",
            "Right: 728beae3756e9ea17b15ecbc095a5c0d7bba2c3182b83606baf199560ba868ba\n",
            "Value: 0f0f51729ff9f7b5d2ebbed20ab898834d83f18334811a9016bc72a2a690035e\n",
            "Content: Mix+Merkle\n",
            "\n",
            "Input\n",
            "Value: dce6eb4447ef655f33b7baeb0a16ab3d27257c65bf45f760a44b9bff8d5b6663\n",
            "Content: Mix\n",
            "\n",
            "Input\n",
            "Value: 728beae3756e9ea17b15ecbc095a5c0d7bba2c3182b83606baf199560ba868ba\n",
            "Content: Merkle\n",
            "\n",
            "Left: b85f5fabf97d3b18eab12b1746fcff04590986982ae5f205a171880c5c21202b\n",
            "Right: 218197693424e0154cefc0af31aed96c084b987e08136e91d5528ddbb5461e24\n",
            "Value: 66edd3db394018a4b7e452e99c351734abe106e9033a17a83c009414a9ddcb59\n",
            "Content: Tree+From\n",
            "\n",
            "Input\n",
            "Value: b85f5fabf97d3b18eab12b1746fcff04590986982ae5f205a171880c5c21202b\n",
            "Content: Tree\n",
            "\n",
            "Input\n",
            "Value: 218197693424e0154cefc0af31aed96c084b987e08136e91d5528ddbb5461e24\n",
            "Content: From\n",
            "\n",
            "Left: 32ba559410e9d1c432589550028f5e965cb84349d56a3b68145ba161ed3e128c\n",
            "Right: e5cc95450ffd1c71004150074c32195dbf80666a10544fc8c965a305a8a26ee1\n",
            "Value: c04ac4dc80287139319ed96eac4d0f4f2e27c7e349f7c848b0cd72508bc95868\n",
            "Content: Onur Atakan ULUSOY+https://github.com/onuratakan/mixmerkletree+GO+GO\n",
            "\n",
            "Left: b45211393b0857d40548cf48bb64c86fdb940dc94cd47445d852f5d522318b73\n",
            "Right: 612bd0f794de2ea56722c4e659168bcbba5f5c172fa3ef3d9cb339cf26fdf193\n",
            "Value: 32ba559410e9d1c432589550028f5e965cb84349d56a3b68145ba161ed3e128c\n",
            "Content: Onur Atakan ULUSOY+https://github.com/onuratakan/mixmerkletree\n",
            "\n",
            "Input\n",
            "Value: b45211393b0857d40548cf48bb64c86fdb940dc94cd47445d852f5d522318b73\n",
            "Content: Onur Atakan ULUSOY\n",
            "\n",
            "Input\n",
            "Value: 612bd0f794de2ea56722c4e659168bcbba5f5c172fa3ef3d9cb339cf26fdf193\n",
            "Content: https://github.com/onuratakan/mixmerkletree\n",
            "\n",
            "Left: a0f949497a74dde0c63a35cd9ab147012ffa007b019557ea5cecb9a243d0c5de\n",
            "Right: a0f949497a74dde0c63a35cd9ab147012ffa007b019557ea5cecb9a243d0c5de\n",
            "Value: e5cc95450ffd1c71004150074c32195dbf80666a10544fc8c965a305a8a26ee1\n",
            "Content: GO+GO\n",
            "\n",
            "Input\n",
            "Value: a0f949497a74dde0c63a35cd9ab147012ffa007b019557ea5cecb9a243d0c5de\n",
            "Content: GO\n",
            "\n",
            "Input\n",
            "Value: a0f949497a74dde0c63a35cd9ab147012ffa007b019557ea5cecb9a243d0c5de\n",
            "Content: GO\n",
            "\n"
          ]
        }
      ],
      "source": [
        "def mixmerkletree()-> None:\n",
        "    elems = [\"Mix\", \"Merkle\", \"Tree\",\"From\",\"Onur Atakan ULUSOY\",\"https://github.com/onuratakan/mixmerkletree\",\"GO\"] #inputs\n",
        "    print(\"Inputs: \")\n",
        "    print(*elems, sep = \" | \")\n",
        "    print(\"\")\n",
        "    mtree = MerkleTree(elems)\n",
        "    print(\"Root Hash: \"+mtree.getRootHash()+\"\\n\")\n",
        "    mtree.printTree()\n",
        " \n",
        " \n",
        "mixmerkletree()"
      ]
    }
  ],
  "metadata": {
    "colab": {
      "collapsed_sections": [],
      "name": "merkleroot.ipynb",
      "provenance": []
    },
    "interpreter": {
      "hash": "3d035ce39b2f03ebbc614d8242d847c64b60e26254a1b9d5723bda9f141e15a3"
    },
    "kernelspec": {
      "display_name": "Python 3.9.12 ('test-env')",
      "language": "python",
      "name": "python3"
    },
    "language_info": {
      "codemirror_mode": {
        "name": "ipython",
        "version": 3
      },
      "file_extension": ".py",
      "mimetype": "text/x-python",
      "name": "python",
      "nbconvert_exporter": "python",
      "pygments_lexer": "ipython3",
      "version": "3.9.12"
    }
  },
  "nbformat": 4,
  "nbformat_minor": 0
}
